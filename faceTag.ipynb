{
 "cells": [
  {
   "cell_type": "code",
   "execution_count": 1,
   "metadata": {},
   "outputs": [],
   "source": [
    "import sys\n",
    "import os\n",
    "from StateMachine import primitives, console, generator, profUtil\n",
    "import os, copy\n",
    "from ruamel.yaml import YAML\n",
    "# os.environ[\"PATH\"] += '/usr/local/Cellar/graphviz/2.50.0/bin'\n",
    "import faceTagAuto\n",
    "%load_ext filprofiler"
   ]
  },
  {
   "cell_type": "code",
   "execution_count": 2,
   "metadata": {},
   "outputs": [
    {
     "name": "stdout",
     "output_type": "stream",
     "text": [
      "Start loading and resizing each frame\n",
      "Total frams: 2591\n",
      "Sharding complete\n"
     ]
    },
    {
     "name": "stderr",
     "output_type": "stream",
     "text": [
      "=fil-profile= Preparing to write to tmp/faceTag/testCase-0/loadVT\n",
      "=fil-profile= Wrote flamegraph to \"tmp/faceTag/testCase-0/loadVT/peak-memory.svg\"\n",
      "=fil-profile= Wrote flamegraph to \"tmp/faceTag/testCase-0/loadVT/peak-memory-reversed.svg\"\n"
     ]
    },
    {
     "name": "stdout",
     "output_type": "stream",
     "text": [
      "Calculating Locations and Encodings of frames\n",
      "Calculating Locations and Encodings of frames\n",
      "Calculating Locations and Encodings of frames\n",
      "Calculating Locations and Encodings of frames\n",
      "Calculating Locations and Encodings of frames\n",
      "Calculating Locations and Encodings of frames\n",
      "Calculating Locations and Encodings of frames\n",
      "Calculating Locations and Encodings of frames\n",
      "Calculating Locations and Encodings of frames\n",
      "Calculating Locations and Encodings of frames\n"
     ]
    },
    {
     "name": "stderr",
     "output_type": "stream",
     "text": [
      "=fil-profile= Preparing to write to tmp/faceTag/testCase-0/loadVT/getLocationAndEncoding\n",
      "=fil-profile= Wrote flamegraph to \"tmp/faceTag/testCase-0/loadVT/getLocationAndEncoding/peak-memory.svg\"\n",
      "=fil-profile= Wrote flamegraph to \"tmp/faceTag/testCase-0/loadVT/getLocationAndEncoding/peak-memory-reversed.svg\"\n"
     ]
    },
    {
     "name": "stdout",
     "output_type": "stream",
     "text": [
      "Tagging target faces on the frames\n",
      "Tagging target faces on the frames\n"
     ]
    },
    {
     "name": "stderr",
     "output_type": "stream",
     "text": [
      "=fil-profile= Preparing to write to tmp/faceTag/testCase-0/loadVT/getLocationAndEncoding/tagNameOnFrames\n",
      "=fil-profile= Wrote flamegraph to \"tmp/faceTag/testCase-0/loadVT/getLocationAndEncoding/tagNameOnFrames/peak-memory.svg\"\n",
      "=fil-profile= Wrote flamegraph to \"tmp/faceTag/testCase-0/loadVT/getLocationAndEncoding/tagNameOnFrames/peak-memory-reversed.svg\"\n"
     ]
    },
    {
     "name": "stdout",
     "output_type": "stream",
     "text": [
      "Adding to the video\n"
     ]
    },
    {
     "name": "stderr",
     "output_type": "stream",
     "text": [
      "=fil-profile= Preparing to write to tmp/faceTag/testCase-0/loadVT/getLocationAndEncoding/tagNameOnFrames/BoxTargetName\n",
      "=fil-profile= Wrote flamegraph to \"tmp/faceTag/testCase-0/loadVT/getLocationAndEncoding/tagNameOnFrames/BoxTargetName/peak-memory.svg\"\n",
      "=fil-profile= Wrote flamegraph to \"tmp/faceTag/testCase-0/loadVT/getLocationAndEncoding/tagNameOnFrames/BoxTargetName/peak-memory-reversed.svg\"\n"
     ]
    },
    {
     "name": "stdout",
     "output_type": "stream",
     "text": [
      "View state machine data graph at tmp/faceTag/MergedProf-data-gv.pdf\n",
      "View state machine prof graph at tmp/faceTag/MergedProf-prof-gv.pdf\n"
     ]
    }
   ],
   "source": [
    "rels, profs, mprof = faceTagAuto.sm.prof(console.MAX_PROF, 'tmp')"
   ]
  },
  {
   "cell_type": "code",
   "execution_count": 3,
   "metadata": {},
   "outputs": [],
   "source": [
    "sm = faceTagAuto.sm\n",
    "app = sm.app"
   ]
  },
  {
   "cell_type": "code",
   "execution_count": 4,
   "metadata": {},
   "outputs": [
    {
     "data": {
      "text/plain": [
       "[(0,\n",
       "  0,\n",
       "  loadVT \n",
       "  inputSize: {'fpath': 80, 'tname': 64, 'outpath': 72, 'stride': 32, 'tpath': 80} \n",
       "  New allocation: 1145911452 \n",
       "  Call time: 9.790915727615356 \n",
       "  outSize: {'frame_count': 32, 'frames': 1008148064, 'target_encodings': 1152, 'fpath': 80, 'target_name': 64, 'stride': 32, 'outpath': 72}\n",
       "  totalInSize: 0.00031280517578125\n",
       "  totalOutSize: 961.4462814331055\n",
       "  memTime (MB*s): 11330.24234534835)]"
      ]
     },
     "execution_count": 4,
     "metadata": {},
     "output_type": "execute_result"
    }
   ],
   "source": [
    "options = sm.createDagOptions(mprof)\n",
    "options"
   ]
  },
  {
   "cell_type": "code",
   "execution_count": 5,
   "metadata": {},
   "outputs": [
    {
     "name": "stdout",
     "output_type": "stream",
     "text": [
      "loadVT \n",
      "inputSize: {'fpath': 80, 'tname': 64, 'outpath': 72, 'stride': 32, 'tpath': 80} \n",
      "New allocation: 1145911452 \n",
      "Call time: 9.790915727615356 \n",
      "outSize: {'frame_count': 32, 'frames': 1008148064, 'target_encodings': 1152, 'fpath': 80, 'target_name': 64, 'stride': 32, 'outpath': 72}\n",
      "totalInSize: 0.00031280517578125\n",
      "totalOutSize: 961.4462814331055\n",
      "memTime (MB*s): 11330.24234534835\n",
      "\tgetLocationAndEncoding \n",
      "\tinputSize: {'frames': 101165104} \n",
      "\tNew allocation: 64194039 \n",
      "\tCall time: 225.9809911251068 \n",
      "\toutSize: {'face_encodingsPF': 615824, 'face_locationsPF': 80256}\n",
      "\ttotalInSize: 96.47856140136719\n",
      "\ttotalOutSize: 0.6638336181640625\n",
      "\tmemTime (MB*s): 35716.998738187234\n",
      "\t\ttagNameOnFrames \n",
      "\t\tinputSize: {'target_encodings': 1152, 'target_name': 64, 'face_encodingsPF': 2727016} \n",
      "\t\tNew allocation: 2539765 \n",
      "\t\tCall time: 0.22436308860778809 \n",
      "\t\toutSize: {'face_namesPF': 125680}\n",
      "\t\ttotalInSize: 2.6018447875976562\n",
      "\t\ttotalOutSize: 0.1198577880859375\n",
      "\t\tmemTime (MB*s): 3.6402603257912154\n",
      "\t\t\tBoxTargetName \n",
      "\t\t\tinputSize: {'outpath': 72, 'face_namesPF': 247568, 'fpath': 80, 'target_name': 64, 'face_locationsPF': 688928, 'stride': 32} \n",
      "\t\t\tNew allocation: 198338151 \n",
      "\t\t\tCall time: 50.45146107673645 \n",
      "\t\t\toutSize: {'status': 56}\n",
      "\t\t\ttotalInSize: 0.8933486938476562\n",
      "\t\t\ttotalOutSize: 5.340576171875e-05\n",
      "\t\t\tmemTime (MB*s): 9682.999895832072\n",
      "\n"
     ]
    }
   ],
   "source": [
    "print(options[0][2])"
   ]
  },
  {
   "cell_type": "code",
   "execution_count": 6,
   "metadata": {},
   "outputs": [
    {
     "name": "stdout",
     "output_type": "stream",
     "text": [
      "loadVT \n",
      "inputSize: {'fpath': 80, 'tname': 64, 'outpath': 72, 'stride': 32, 'tpath': 80} \n",
      "New allocation: 1145911452 \n",
      "Call time: 9.790915727615356 \n",
      "outSize: {'frame_count': 32, 'frames': 1008148064, 'target_encodings': 1152, 'fpath': 80, 'target_name': 64, 'stride': 32, 'outpath': 72}\n",
      "totalInSize: 0.00031280517578125\n",
      "totalOutSize: 961.4462814331055\n",
      "memTime (MB*s): 11330.24234534835\n",
      "\tgetLocationAndEncoding \n",
      "\tinputSize: {'frames': 101165104} \n",
      "\tNew allocation: 64194039 \n",
      "\tCall time: 225.9809911251068 \n",
      "\toutSize: {'face_encodingsPF': 615824, 'face_locationsPF': 80256}\n",
      "\ttotalInSize: 96.47856140136719\n",
      "\ttotalOutSize: 0.6638336181640625\n",
      "\tmemTime (MB*s): 35716.998738187234\n",
      "\t\ttagNameOnFrames \n",
      "\t\tinputSize: {'target_encodings': 1152, 'target_name': 64, 'face_encodingsPF': 2727016} \n",
      "\t\tNew allocation: 2539765 \n",
      "\t\tCall time: 0.22436308860778809 \n",
      "\t\toutSize: {'face_namesPF': 125680}\n",
      "\t\ttotalInSize: 2.6018447875976562\n",
      "\t\ttotalOutSize: 0.1198577880859375\n",
      "\t\tmemTime (MB*s): 3.6402603257912154\n",
      "\t\t\tBoxTargetName \n",
      "\t\t\tinputSize: {'outpath': 72, 'face_namesPF': 247568, 'fpath': 80, 'target_name': 64, 'face_locationsPF': 688928, 'stride': 32} \n",
      "\t\t\tNew allocation: 198338151 \n",
      "\t\t\tCall time: 50.45146107673645 \n",
      "\t\t\toutSize: {'status': 56}\n",
      "\t\t\ttotalInSize: 0.8933486938476562\n",
      "\t\t\ttotalOutSize: 5.340576171875e-05\n",
      "\t\t\tmemTime (MB*s): 9682.999895832072\n",
      "\n"
     ]
    }
   ],
   "source": [
    "afterConfig, peak_obj_pool = faceTagAuto.sm.configObjPoolRemoteOnly(0)\n",
    "print(afterConfig)"
   ]
  },
  {
   "cell_type": "code",
   "execution_count": 22,
   "metadata": {},
   "outputs": [],
   "source": [
    "from StateMachine import generator\n",
    "from StateMachine.console import KB, GB"
   ]
  },
  {
   "cell_type": "code",
   "execution_count": 24,
   "metadata": {},
   "outputs": [],
   "source": [
    "faceTagGen = generator.Generator(afterConfig, 'faceTag/lambdas.py', 'faceTagSrc')"
   ]
  },
  {
   "cell_type": "code",
   "execution_count": 25,
   "metadata": {},
   "outputs": [
    {
     "name": "stdout",
     "output_type": "stream",
     "text": [
      "Building Complete!!!\n"
     ]
    }
   ],
   "source": [
    "dinput = {'fpath': '/users/Zijian/scad/scadPriv/runtime/scripts/faceTag/interview-short-short.mp4', 'tpath': '/users/Zijian/scad/scadPriv/runtime/scripts/faceTag/Gordon-Ramsay.jpeg', 'tname': 'Gordon Ramsay', 'stride':1, 'outpath': 'faceTag/result.avi'}\n",
    "faceTagGen.build(poolSize=1*GB, pageSize=16*KB, appInput=dinput)"
   ]
  },
  {
   "cell_type": "code",
   "execution_count": 10,
   "metadata": {},
   "outputs": [
    {
     "data": {
      "text/plain": [
       "101166504"
      ]
     },
     "execution_count": 10,
     "metadata": {},
     "output_type": "execute_result"
    }
   ],
   "source": [
    "peak_obj_pool"
   ]
  },
  {
   "cell_type": "code",
   "execution_count": 11,
   "metadata": {},
   "outputs": [
    {
     "name": "stdout",
     "output_type": "stream",
     "text": [
      "\n",
      "curOffsets = {vname: 0 for vname, b in ustkMap.items() if b}\n",
      "\n"
     ]
    }
   ],
   "source": [
    "code = \\\n",
    "f\"\"\"\n",
    "curOffsets = {{vname: 0 for vname, b in ustkMap.items() if b}}\n",
    "\"\"\"\n",
    "print(code)"
   ]
  },
  {
   "cell_type": "code",
   "execution_count": 12,
   "metadata": {},
   "outputs": [],
   "source": [
    "import ast, astor\n",
    "m = ast.parse(code)"
   ]
  },
  {
   "cell_type": "code",
   "execution_count": 13,
   "metadata": {},
   "outputs": [
    {
     "data": {
      "text/plain": [
       "'curOffsets = {vname: (0) for vname, b in ustkMap.items() if b}\\n'"
      ]
     },
     "execution_count": 13,
     "metadata": {},
     "output_type": "execute_result"
    }
   ],
   "source": [
    "astor.to_source(m)"
   ]
  },
  {
   "cell_type": "code",
   "execution_count": 14,
   "metadata": {},
   "outputs": [
    {
     "data": {
      "text/plain": [
       "{'a': 0}"
      ]
     },
     "execution_count": 14,
     "metadata": {},
     "output_type": "execute_result"
    }
   ],
   "source": [
    "a = {'a': True, 'b': False}\n",
    "b = {vname: (0) for vname, t in a.items() if t}\n",
    "b"
   ]
  },
  {
   "cell_type": "code",
   "execution_count": null,
   "metadata": {},
   "outputs": [],
   "source": []
  }
 ],
 "metadata": {
  "interpreter": {
   "hash": "65c80d07237ddc90da83a04a4bfb0d8889b111e6f90fa4e951ad067efd46c12d"
  },
  "kernelspec": {
   "display_name": "Python 3 (ipykernel)",
   "language": "python",
   "name": "python3"
  },
  "language_info": {
   "codemirror_mode": {
    "name": "ipython",
    "version": 3
   },
   "file_extension": ".py",
   "mimetype": "text/x-python",
   "name": "python",
   "nbconvert_exporter": "python",
   "pygments_lexer": "ipython3",
   "version": "3.8.12"
  }
 },
 "nbformat": 4,
 "nbformat_minor": 4
}
