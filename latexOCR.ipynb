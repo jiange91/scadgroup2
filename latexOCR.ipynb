{
 "cells": [
  {
   "cell_type": "code",
   "execution_count": 1,
   "id": "bfeee2ef-82b9-43ec-942e-bfb13d9f461d",
   "metadata": {},
   "outputs": [
    {
     "name": "stderr",
     "output_type": "stream",
     "text": [
      "/Users/zijian/opt/anaconda3/envs/scad38/lib/python3.8/site-packages/tqdm/auto.py:22: TqdmWarning: IProgress not found. Please update jupyter and ipywidgets. See https://ipywidgets.readthedocs.io/en/stable/user_install.html\n",
      "  from .autonotebook import tqdm as notebook_tqdm\n"
     ]
    }
   ],
   "source": [
    "import sys\n",
    "import os\n",
    "from StateMachine import primitives, console, generator, profUtil\n",
    "import os, copy\n",
    "from ruamel.yaml import YAML\n",
    "# os.environ[\"PATH\"] += '/usr/local/Cellar/graphviz/2.50.0/bin'\n",
    "import latexOCRAuto\n",
    "%load_ext filprofiler"
   ]
  },
  {
   "cell_type": "code",
   "execution_count": 2,
   "id": "d1ab5b32-0928-4ce9-9ec5-42964a238d6d",
   "metadata": {},
   "outputs": [
    {
     "name": "stdout",
     "output_type": "stream",
     "text": [
      "Proceeding\n"
     ]
    },
    {
     "name": "stderr",
     "output_type": "stream",
     "text": [
      "=fil-profile= Preparing to write to tmp/latexOCR/valid auth/Dummy_authentication\n",
      "=fil-profile= Wrote flamegraph to \"tmp/latexOCR/valid auth/Dummy_authentication/peak-memory.svg\"\n",
      "=fil-profile= Wrote flamegraph to \"tmp/latexOCR/valid auth/Dummy_authentication/peak-memory-reversed.svg\"\n",
      "=fil-profile= Preparing to write to tmp/latexOCR/valid auth/Dummy_authentication/Work_setup\n",
      "=fil-profile= Wrote flamegraph to \"tmp/latexOCR/valid auth/Dummy_authentication/Work_setup/peak-memory.svg\"\n",
      "=fil-profile= Wrote flamegraph to \"tmp/latexOCR/valid auth/Dummy_authentication/Work_setup/peak-memory-reversed.svg\"\n"
     ]
    },
    {
     "name": "stdout",
     "output_type": "stream",
     "text": [
      "Tensor shape after resize: torch.Size([1, 1, 64, 512])\n"
     ]
    },
    {
     "name": "stderr",
     "output_type": "stream",
     "text": [
      "=fil-profile= Preparing to write to tmp/latexOCR/valid auth/Dummy_authentication/Work_setup/Resize_image\n",
      "=fil-profile= Wrote flamegraph to \"tmp/latexOCR/valid auth/Dummy_authentication/Work_setup/Resize_image/peak-memory.svg\"\n",
      "=fil-profile= Wrote flamegraph to \"tmp/latexOCR/valid auth/Dummy_authentication/Work_setup/Resize_image/peak-memory-reversed.svg\"\n"
     ]
    },
    {
     "name": "stdout",
     "output_type": "stream",
     "text": [
      "Most likely latex: 1+\\frac{q^{2}}{(1-q)}+\\frac{q^{6}}{(1-q)(1-q^{2})}+\\cdots=\\prod_{j=0}^{\\infty}\\frac{1}{(1-q^{5}/+2)(1-q^{5}/-3)},\\qquad\\mathrm{for}\\,|q|<1\n",
      "Generated tex content: \n",
      "\n",
      "\\documentclass[varwidth]{standalone}\n",
      "\\usepackage{fontspec,unicode-math}\n",
      "\\usepackage[active,tightpage,displaymath,textmath]{preview}\n",
      "\\begin{document}\n",
      "\\thispagestyle{empty}\n",
      "$$1+\\frac{q^{2}}{(1-q)}+\\frac{q^{6}}{(1-q)(1-q^{2})}+\\cdots=\\prod_{j=0}^{\\infty}\\frac{1}{(1-q^{5}/+2)(1-q^{5}/-3)},\\qquad\\mathrm{for}\\,|q|<1$$\n",
      "\\end{document}\n",
      "\n"
     ]
    },
    {
     "name": "stderr",
     "output_type": "stream",
     "text": [
      "=fil-profile= Preparing to write to tmp/latexOCR/valid auth/Dummy_authentication/Work_setup/Resize_image/ML_inference\n",
      "=fil-profile= Wrote flamegraph to \"tmp/latexOCR/valid auth/Dummy_authentication/Work_setup/Resize_image/ML_inference/peak-memory.svg\"\n",
      "=fil-profile= Wrote flamegraph to \"tmp/latexOCR/valid auth/Dummy_authentication/Work_setup/Resize_image/ML_inference/peak-memory-reversed.svg\"\n",
      "=fil-profile= WARNING: Fil does not (yet) support tracking memory in subprocesses.\n",
      "=fil-profile= Preparing to write to tmp/latexOCR/valid auth/Dummy_authentication/Work_setup/Resize_image/ML_inference/Cache_render\n",
      "=fil-profile= Wrote flamegraph to \"tmp/latexOCR/valid auth/Dummy_authentication/Work_setup/Resize_image/ML_inference/Cache_render/peak-memory.svg\"\n",
      "=fil-profile= Wrote flamegraph to \"tmp/latexOCR/valid auth/Dummy_authentication/Work_setup/Resize_image/ML_inference/Cache_render/peak-memory-reversed.svg\"\n"
     ]
    },
    {
     "name": "stdout",
     "output_type": "stream",
     "text": [
      "View state machine data graph at tmp/latexOCR/valid auth/latexOCR-data-gv.pdf\n",
      "View state machine prof graph at tmp/latexOCR/valid auth/latexOCR-prof-gv.pdf\n",
      "Not enough credits\n",
      "Please buy me a coffee\n"
     ]
    },
    {
     "name": "stderr",
     "output_type": "stream",
     "text": [
      "=fil-profile= Preparing to write to tmp/latexOCR/inadquate privilege/Dummy_authentication\n",
      "=fil-profile= Wrote flamegraph to \"tmp/latexOCR/inadquate privilege/Dummy_authentication/peak-memory.svg\"\n",
      "=fil-profile= Wrote flamegraph to \"tmp/latexOCR/inadquate privilege/Dummy_authentication/peak-memory-reversed.svg\"\n",
      "=fil-profile= Preparing to write to tmp/latexOCR/inadquate privilege/Dummy_authentication/Need_subscription\n",
      "=fil-profile= Wrote flamegraph to \"tmp/latexOCR/inadquate privilege/Dummy_authentication/Need_subscription/peak-memory.svg\"\n",
      "=fil-profile= Wrote flamegraph to \"tmp/latexOCR/inadquate privilege/Dummy_authentication/Need_subscription/peak-memory-reversed.svg\"\n"
     ]
    },
    {
     "name": "stdout",
     "output_type": "stream",
     "text": [
      "View state machine data graph at tmp/latexOCR/inadquate privilege/latexOCR-data-gv.pdf\n",
      "View state machine prof graph at tmp/latexOCR/inadquate privilege/latexOCR-prof-gv.pdf\n",
      "View state machine data graph at tmp/latexOCR/MergedProf-data-gv.pdf\n",
      "View state machine prof graph at tmp/latexOCR/MergedProf-prof-gv.pdf\n"
     ]
    }
   ],
   "source": [
    "rels, profs, mprof = latexOCRAuto.sm.prof(console.MAX_PROF, 'tmp')"
   ]
  },
  {
   "cell_type": "code",
   "execution_count": 3,
   "id": "5fc87be0-1189-4b34-85e0-c2155e1eb130",
   "metadata": {},
   "outputs": [],
   "source": [
    "sm = latexOCRAuto.sm\n",
    "app = sm.app"
   ]
  },
  {
   "cell_type": "code",
   "execution_count": 4,
   "id": "6a985c89-dab2-4e23-8cda-9e3eb9d3a7c8",
   "metadata": {},
   "outputs": [
    {
     "data": {
      "text/plain": [
       "[(0,\n",
       "  0,\n",
       "  Dummy_authentication \n",
       "  inputSize: {'userID': 32, 'imgPath': 128} \n",
       "  New allocation: 2817205 \n",
       "  Call time: 1.0064260959625244 \n",
       "  outSize: {'imgPath': 128, 'userID': 32}\n",
       "  totalInSize: 0.000152587890625\n",
       "  totalOutSize: 0.000152587890625\n",
       "  memTime (MB*s): 4.04753897345999),\n",
       " (0.5000044311523437,\n",
       "  1.911339603068825,\n",
       "  Dummy_authentication \n",
       "  inputSize: {'userID': 32, 'imgPath': 128} \n",
       "  New allocation: 2817205 \n",
       "  Call time: 1.0064260959625244 \n",
       "  outSize: {'imgPath': 128, 'userID': 32}\n",
       "  totalInSize: 0.000152587890625\n",
       "  totalOutSize: 0.000152587890625\n",
       "  memTime (MB*s): 4.04753897345999),\n",
       " (1.0000055822753906,\n",
       "  40.8029775789077,\n",
       "  Dummy_authentication \n",
       "  inputSize: {'userID': 32, 'imgPath': 128} \n",
       "  New allocation: 2817205 \n",
       "  Call time: 1.0064260959625244 \n",
       "  outSize: {'imgPath': 128, 'userID': 32}\n",
       "  totalInSize: 0.000152587890625\n",
       "  totalOutSize: 0.000152587890625\n",
       "  memTime (MB*s): 4.04753897345999),\n",
       " (1.5000056201171876,\n",
       "  488.75062844130474,\n",
       "  Dummy_authentication \n",
       "  inputSize: {'userID': 32, 'imgPath': 128} \n",
       "  New allocation: 2817205 \n",
       "  Call time: 1.0064260959625244 \n",
       "  outSize: {'imgPath': 128, 'userID': 32}\n",
       "  totalInSize: 0.000152587890625\n",
       "  totalOutSize: 0.000152587890625\n",
       "  memTime (MB*s): 4.04753897345999)]"
      ]
     },
     "execution_count": 4,
     "metadata": {},
     "output_type": "execute_result"
    }
   ],
   "source": [
    "options = sm.createDagOptions(mprof)\n",
    "options"
   ]
  },
  {
   "cell_type": "code",
   "execution_count": 13,
   "id": "46de9340-ae1d-4f20-8650-5e3207b9b65e",
   "metadata": {},
   "outputs": [
    {
     "name": "stdout",
     "output_type": "stream",
     "text": [
      "Dummy_authentication \n",
      "inputSize: {'userID': 32, 'imgPath': 128} \n",
      "New allocation: 2817205 \n",
      "Call time: 1.0064260959625244 \n",
      "outSize: {'imgPath': 128, 'userID': 32}\n",
      "totalInSize: 0.000152587890625\n",
      "totalOutSize: 0.000152587890625\n",
      "memTime (MB*s): 4.04753897345999\n",
      "\tNeed_subscription \n",
      "\tinputSize: {'userID': 24} \n",
      "\tNew allocation: 36452 \n",
      "\tCall time: 2.0001769065856934 \n",
      "\toutSize: {'userID': 24}\n",
      "\ttotalInSize: 2.288818359375e-05\n",
      "\ttotalOutSize: 2.288818359375e-05\n",
      "\tmemTime (MB*s): 0.08697171495265851\n",
      "\tWork_setup-Resize_image-ML_inference \n",
      "\tinputSize: {'imgPath': 128} \n",
      "\tNew allocation: 219137976 \n",
      "\tCall time: 5.8134825229644775 \n",
      "\toutSize: {'imgName': 56, 'pred': 192, 'args': 7368, 'img': 176}\n",
      "\ttotalInSize: 0.0001220703125\n",
      "\ttotalOutSize: 0.0074310302734375\n",
      "\tmemTime (MB*s): 1319.4319936116633\n",
      "\t\tCache_render \n",
      "\t\tinputSize: {'imgName': 56, 'userID': 32, 'pred': 192} \n",
      "\t\tNew allocation: 1852642 \n",
      "\t\tCall time: 2.1659719944000244 \n",
      "\t\toutSize: {'status': 96}\n",
      "\t\ttotalInSize: 0.00026702880859375\n",
      "\t\ttotalOutSize: 9.1552734375e-05\n",
      "\t\tmemTime (MB*s): 4.710996830903599\n",
      "\n"
     ]
    }
   ],
   "source": [
    "print(options[2][2])"
   ]
  },
  {
   "cell_type": "code",
   "execution_count": 7,
   "id": "4bed9f58-5126-4c62-87e8-21f32374b780",
   "metadata": {},
   "outputs": [
    {
     "name": "stdout",
     "output_type": "stream",
     "text": [
      "Dummy_authentication \n",
      "inputSize: {'userID': 32, 'imgPath': 128} \n",
      "New allocation: 2817205 \n",
      "Call time: 1.0064260959625244 \n",
      "outSize: {'imgPath': 128, 'userID': 32}\n",
      "totalInSize: 0.000152587890625\n",
      "totalOutSize: 0.000152587890625\n",
      "memTime (MB*s): 4.04753897345999\n",
      "\tNeed_subscription \n",
      "\tinputSize: {'userID': 24} \n",
      "\tNew allocation: 36452 \n",
      "\tCall time: 2.0001769065856934 \n",
      "\toutSize: {'userID': 24}\n",
      "\ttotalInSize: 2.288818359375e-05\n",
      "\ttotalOutSize: 2.288818359375e-05\n",
      "\tmemTime (MB*s): 0.08697171495265851\n",
      "\tWork_setup-Resize_image \n",
      "\tinputSize: {'imgPath': 128} \n",
      "\tNew allocation: 67338641 \n",
      "\tCall time: 0.4904286861419678 \n",
      "\toutSize: {'imgName': 56, 'args': 7368, 'img': 176}\n",
      "\ttotalInSize: 0.0001220703125\n",
      "\ttotalOutSize: 0.0072479248046875\n",
      "\tmemTime (MB*s): 63.604629716872566\n",
      "\t\tML_inference \n",
      "\t\tinputSize: {'args': 7368, 'img': 176} \n",
      "\t\tNew allocation: 219137976 \n",
      "\t\tCall time: 5.32305383682251 \n",
      "\t\toutSize: {'pred': 192}\n",
      "\t\ttotalInSize: 0.00719451904296875\n",
      "\t\ttotalOutSize: 0.00018310546875\n",
      "\t\tmemTime (MB*s): 1216.980257416089\n",
      "\t\t\tCache_render \n",
      "\t\t\tinputSize: {'imgName': 56, 'userID': 32, 'pred': 192} \n",
      "\t\t\tNew allocation: 1852642 \n",
      "\t\t\tCall time: 2.1659719944000244 \n",
      "\t\t\toutSize: {'status': 96}\n",
      "\t\t\ttotalInSize: 0.00026702880859375\n",
      "\t\t\ttotalOutSize: 9.1552734375e-05\n",
      "\t\t\tmemTime (MB*s): 4.710996830903599\n",
      "\n"
     ]
    }
   ],
   "source": [
    "afterConfig, peak_obj_pool = sm.configObjPoolRemoteOnly(2)\n",
    "print(afterConfig)"
   ]
  },
  {
   "cell_type": "code",
   "execution_count": 9,
   "id": "af9c6533-f642-482a-88d8-06224a006270",
   "metadata": {},
   "outputs": [
    {
     "data": {
      "text/plain": [
       "['Need_subscription', 'Work_setup-Resize_image']"
      ]
     },
     "execution_count": 9,
     "metadata": {},
     "output_type": "execute_result"
    }
   ],
   "source": [
    "afterConfig.nexts"
   ]
  },
  {
   "cell_type": "code",
   "execution_count": 10,
   "id": "64e7bbe8-c88c-4694-82ca-07a7bf7942fe",
   "metadata": {},
   "outputs": [],
   "source": [
    "from StateMachine import generator\n",
    "from StateMachine.console import KB, GB, MB"
   ]
  },
  {
   "cell_type": "code",
   "execution_count": 11,
   "id": "4d4a425a-631f-4d85-b647-27a6ca23cac2",
   "metadata": {},
   "outputs": [],
   "source": [
    "faceTagGen = generator.Generator(afterConfig, 'latexOCR', 'latexOCR-SRC')"
   ]
  },
  {
   "cell_type": "code",
   "execution_count": 12,
   "id": "a3728310-5f04-4c93-8d20-70ab6e3a01b1",
   "metadata": {},
   "outputs": [
    {
     "name": "stdout",
     "output_type": "stream",
     "text": [
      "512\n",
      "Building Complete!!!\n"
     ]
    }
   ],
   "source": [
    "dinput = {'userID': 100, 'imgPath': '/Users/zijian/Desktop/ucsd/291_Vir/project/playaround/latexOCR/imgs/eq1.png'}\n",
    "faceTagGen.build(poolSize=512 * MB, pageSize=16*KB, appInput=dinput)"
   ]
  },
  {
   "cell_type": "code",
   "execution_count": null,
   "id": "e6ed0ba8-e034-49c8-95f9-f7b789c5a38d",
   "metadata": {},
   "outputs": [],
   "source": []
  }
 ],
 "metadata": {
  "interpreter": {
   "hash": "65c80d07237ddc90da83a04a4bfb0d8889b111e6f90fa4e951ad067efd46c12d"
  },
  "kernelspec": {
   "display_name": "Python 3 with Fil",
   "language": "python",
   "name": "filprofile"
  },
  "language_info": {
   "codemirror_mode": {
    "name": "ipython",
    "version": 3
   },
   "file_extension": ".py",
   "mimetype": "text/x-python",
   "name": "python",
   "nbconvert_exporter": "python",
   "pygments_lexer": "ipython3",
   "version": "3.8.12"
  }
 },
 "nbformat": 4,
 "nbformat_minor": 5
}
